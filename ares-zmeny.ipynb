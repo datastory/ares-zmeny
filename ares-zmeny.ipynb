{
 "metadata": {
  "name": "",
  "signature": "sha256:56fe41290250af461476c46d148c02fc027c6c5340db11230bf095ce31e14b24"
 },
 "nbformat": 3,
 "nbformat_minor": 0,
 "worksheets": [
  {
   "cells": [
    {
     "cell_type": "code",
     "collapsed": false,
     "input": [
      "from xml.etree import ElementTree\n",
      "import os\n",
      "import urllib.request\n",
      "import time\n",
      "import csv"
     ],
     "language": "python",
     "metadata": {},
     "outputs": [],
     "prompt_number": 9
    },
    {
     "cell_type": "code",
     "collapsed": false,
     "input": [
      "dtt = {'dtt': 'http://wwwinfo.mfcr.cz/ares/xml_doc/schemas/ares/ares_datatypes/v_1.0.4'}\n",
      "are = {'are': 'http://wwwinfo.mfcr.cz/ares/xml_doc/schemas/ares/ares_answer/v_1.0.1'}\n",
      "nmsp = {'D': 'http://wwwinfo.mfcr.cz/ares/xml_doc/schemas/ares/ares_datatypes/v_1.0.4'}\n"
     ],
     "language": "python",
     "metadata": {},
     "outputs": [],
     "prompt_number": 10
    },
    {
     "cell_type": "code",
     "collapsed": false,
     "input": [
      "#zpracovane davky\n",
      "davky_zprac = []\n",
      "with open('/Users/jancibulka/DEVEL/DATA/ares-zmeny/data/davky_zprac.csv', 'r') as dvk:\n",
      "    reader = csv.reader(dvk, delimiter=';', quotechar='\"')\n",
      "    for row in reader:\n",
      "        davky_zprac.append(row[0])\n",
      "\n",
      "davky_akt = []\n",
      "url = urllib.request.urlopen('http://wwwinfo.mfcr.cz/cgi-bin/ares/darv_zm.cgi?cislo_zdroje=2&cislo_davky_od=2&cislo_davky_do=3')\n",
      "doc = ElementTree.parse(url)\n",
      "for node in doc.findall('.//D:C_davky', namespaces=nmsp):\n",
      "    davky_akt.append(node.text)\n",
      "    \n",
      "davky = []\n",
      "for davka in davky_akt:\n",
      "    if (davka not in davky_zprac):\n",
      "        davky.append(davka)\n",
      "        \n",
      "print (davky)"
     ],
     "language": "python",
     "metadata": {},
     "outputs": [
      {
       "output_type": "stream",
       "stream": "stdout",
       "text": [
        "['216']\n"
       ]
      }
     ],
     "prompt_number": 12
    },
    {
     "cell_type": "code",
     "collapsed": false,
     "input": [
      "out = open('/Users/jancibulka/DEVEL/DATA/ares-zmeny/data/out_firmy.csv', 'a')\n",
      "outwriter = csv.writer(out, delimiter=',', quotechar='\"', quoting=csv.QUOTE_MINIMAL)\n",
      "\n",
      "zdroj = 2 #2 pro firmy, 4 pro zivnostniky\n",
      "\n",
      "for davka in davky:\n",
      "    url = urllib.request.urlopen('http://wwwinfo.mfcr.cz/cgi-bin/ares/darv_zm.cgi?cislo_zdroje={1}&cislo_davky_od={0}&cislo_davky_do={0}'.format(davka, zdroj))\n",
      "    doc = ElementTree.parse(url)\n",
      "    for node in doc.findall('.//D:ic', namespaces=nmsp):\n",
      "        if (node.attrib['p'] == 'N'):\n",
      "            addr = urllib.request.urlopen('http://wwwinfo.mfcr.cz/cgi-bin/ares/darv_std.cgi?ico=' + node.text.strip())\n",
      "            bulk = ElementTree.parse(addr)\n",
      "            firma = bulk.find('.//are:Obchodni_firma', namespaces=are)\n",
      "            ulice = bulk.find('.//dtt:Nazev_ulice', namespaces=dtt)\n",
      "            cis_domu = bulk.find('.//dtt:Cislo_domovni', namespaces=dtt)\n",
      "            obec = bulk.find('.//dtt:Nazev_obce', namespaces=dtt)\n",
      "            psc = bulk.find('.//dtt:PSC', namespaces=dtt)\n",
      "            adresa_text = bulk.find('.//dtt:Adresa_textem', namespaces=dtt)\n",
      "            zapsano = bulk.find('.//are:Datum_vzniku', namespaces=are) #.text.strip()\n",
      "            \n",
      "            ic = node.text.strip()\n",
      "            if (firma is not None):\n",
      "                firma = firma.text.strip()\n",
      "            else:\n",
      "                firma = ''\n",
      "            if (ulice is not None):\n",
      "                ulice = ulice.text.strip()\n",
      "            else:\n",
      "                ulice = ''\n",
      "            if (cis_domu is not None):    \n",
      "                cis_domu = cis_domu.text.strip()\n",
      "            else:\n",
      "                cis_domu = ''\n",
      "            if (obec is not None):\n",
      "                obec = obec.text.strip()\n",
      "            else:\n",
      "                obec = ''\n",
      "            if (psc is not None):\n",
      "                psc = psc.text.strip()\n",
      "            else:\n",
      "                psc = ''\n",
      "            if (adresa_text is not None):\n",
      "                adresa_text = adresa_text.text.strip()\n",
      "            else:\n",
      "                adresa_text = ''\n",
      "            zapsano = zapsano.text.strip()\n",
      "            outwriter.writerow([ic, firma, ulice, cis_domu, obec, psc, adresa_text, zapsano])\n",
      "            time.sleep(0.75)\n",
      "            #break\n",
      "    \n",
      "    with open('/Users/jancibulka/DEVEL/DATA/ares-zmeny/data/davky_zprac.csv', 'a') as dvk:\n",
      "        writer = csv.writer(dvk, delimiter=',', quotechar='\"', quoting=csv.QUOTE_MINIMAL)\n",
      "        writer.writerow([davka + '\\n'])\n",
      "\n",
      "out.close()"
     ],
     "language": "python",
     "metadata": {},
     "outputs": [],
     "prompt_number": 13
    }
   ],
   "metadata": {}
  }
 ]
}