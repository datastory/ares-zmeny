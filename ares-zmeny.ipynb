{
 "metadata": {
  "name": "",
  "signature": "sha256:3636e6c65e7ad65df3ae8966f930777141a36940b02a62982b7aa80616268189"
 },
 "nbformat": 3,
 "nbformat_minor": 0,
 "worksheets": [
  {
   "cells": [
    {
     "cell_type": "code",
     "collapsed": false,
     "input": [
      "from xml.etree import ElementTree\n",
      "import os\n",
      "import urllib2\n",
      "import time\n",
      "import csv"
     ],
     "language": "python",
     "metadata": {},
     "outputs": [],
     "prompt_number": 90
    },
    {
     "cell_type": "code",
     "collapsed": false,
     "input": [
      "dtt = {'dtt': 'http://wwwinfo.mfcr.cz/ares/xml_doc/schemas/ares/ares_datatypes/v_1.0.4'}\n",
      "are = {'are': 'http://wwwinfo.mfcr.cz/ares/xml_doc/schemas/ares/ares_answer/v_1.0.1'}"
     ],
     "language": "python",
     "metadata": {},
     "outputs": [],
     "prompt_number": 91
    },
    {
     "cell_type": "code",
     "collapsed": false,
     "input": [
      "#zpracovane davky\n",
      "davky_zprac = []\n",
      "with open('/Users/jancibulka/DEVEL/DATA/ares-zmeny/data/davky_zprac.csv', 'r') as dvk:\n",
      "    reader = csv.reader(dvk, delimiter=';', quotechar='\"')\n",
      "    for row in reader:\n",
      "        davky_zprac.append(row[0])\n",
      "\n",
      "davky_akt = []\n",
      "nmsp = {'D': 'http://wwwinfo.mfcr.cz/ares/xml_doc/schemas/ares/ares_datatypes/v_1.0.4'}\n",
      "url = urllib2.urlopen('http://wwwinfo.mfcr.cz/cgi-bin/ares/darv_zm.cgi?cislo_zdroje=2&cislo_davky_od=2&cislo_davky_do=3')\n",
      "doc = ElementTree.parse(url)\n",
      "for node in doc.findall('.//D:C_davky', namespaces=nmsp):\n",
      "    davky_akt.append(node.text)\n",
      "    \n",
      "davky = []\n",
      "for davka in davky_akt:\n",
      "    if (davka not in davky_zprac):\n",
      "        davky.append(davka)\n",
      "        \n",
      "print (davky)"
     ],
     "language": "python",
     "metadata": {},
     "outputs": [
      {
       "output_type": "stream",
       "stream": "stdout",
       "text": [
        "['216']\n"
       ]
      }
     ],
     "prompt_number": 92
    },
    {
     "cell_type": "code",
     "collapsed": false,
     "input": [
      "out = open('/Users/jancibulka/DEVEL/DATA/ares-zmeny/data/out.csv', 'a')\n",
      "outwriter = csv.writer(out, delimiter=',', quotechar='\"', quoting=csv.QUOTE_MINIMAL)\n",
      "\n",
      "for davka in davky:\n",
      "    url = urllib2.urlopen('http://wwwinfo.mfcr.cz/cgi-bin/ares/darv_zm.cgi?cislo_zdroje=4&cislo_davky_od={0}&cislo_davky_do={0}'.format(davka))\n",
      "    doc = ElementTree.parse(url)\n",
      "    for node in doc.findall('.//D:ic', namespaces=nmsp):\n",
      "        if (node.attrib['p'] == 'N'):\n",
      "            addr = urllib2.urlopen('http://wwwinfo.mfcr.cz/cgi-bin/ares/darv_std.cgi?ico=' + node.text.strip())\n",
      "            bulk = ElementTree.parse(addr)\n",
      "            firma = bulk.find('.//are:Obchodni_firma', namespaces=are)\n",
      "            ulice = bulk.find('.//dtt:Nazev_ulice', namespaces=dtt)\n",
      "            cis_domu = bulk.find('.//dtt:Cislo_domovni', namespaces=dtt)\n",
      "            obec = bulk.find('.//dtt:Nazev_obce', namespaces=dtt)\n",
      "            psc = bulk.find('.//dtt:PSC', namespaces=dtt)\n",
      "            adresa_text = bulk.find('.//dtt:Adresa_textem', namespaces=dtt)\n",
      "            zapsano = bulk.find('.//are:Datum_vzniku', namespaces=are) #.text.strip()\n",
      "            \n",
      "            ic = node.text.strip()\n",
      "            if (firma is not None):\n",
      "                firma = firma.text.strip()\n",
      "            else:\n",
      "                firma = ''\n",
      "            if (ulice is not None):\n",
      "                ulice = ulice.text.strip()\n",
      "            else:\n",
      "                ulice = ''\n",
      "            if (cis_domu is not None):    \n",
      "                cis_domu = cis_domu.text.strip()\n",
      "            else:\n",
      "                cis_domu = ''\n",
      "            if (obec is not None):\n",
      "                obec = obec.text.strip()\n",
      "            else:\n",
      "                obec = ''\n",
      "            if (psc is not None):\n",
      "                psc = psc.text.strip()\n",
      "            else:\n",
      "                psc = ''\n",
      "            if (adresa_text is not None):\n",
      "                adresa_text = adresa_text.text.strip()\n",
      "            else:\n",
      "                adresa_text = ''\n",
      "            zapsano = zapsano.text.strip()\n",
      "            outwriter.writerow([ic, firma, ulice, cis_domu, obec, psc, adresa_text, zapsano])\n",
      "            #break\n",
      "    \n",
      "    with open('/Users/jancibulka/DEVEL/DATA/ares-zmeny/data/davky_zprac.csv', 'a') as dvk:\n",
      "        writer = csv.writer(dvk, delimiter=',', quotechar='\"', quoting=csv.QUOTE_MINIMAL)\n",
      "        writer.writerow([davka])\n",
      "\n",
      "out.close()"
     ],
     "language": "python",
     "metadata": {},
     "outputs": [
      {
       "ename": "UnicodeEncodeError",
       "evalue": "'ascii' codec can't encode character u'\\xe1' in position 2: ordinal not in range(128)",
       "output_type": "pyerr",
       "traceback": [
        "\u001b[0;31m---------------------------------------------------------------------------\u001b[0m\n\u001b[0;31mUnicodeEncodeError\u001b[0m                        Traceback (most recent call last)",
        "\u001b[0;32m<ipython-input-93-3f631ee096c1>\u001b[0m in \u001b[0;36m<module>\u001b[0;34m()\u001b[0m\n\u001b[1;32m     43\u001b[0m                 \u001b[0madresa_text\u001b[0m \u001b[0;34m=\u001b[0m \u001b[0;34m''\u001b[0m\u001b[0;34m\u001b[0m\u001b[0m\n\u001b[1;32m     44\u001b[0m             \u001b[0mzapsano\u001b[0m \u001b[0;34m=\u001b[0m \u001b[0mzapsano\u001b[0m\u001b[0;34m.\u001b[0m\u001b[0mtext\u001b[0m\u001b[0;34m.\u001b[0m\u001b[0mstrip\u001b[0m\u001b[0;34m(\u001b[0m\u001b[0;34m)\u001b[0m\u001b[0;34m\u001b[0m\u001b[0m\n\u001b[0;32m---> 45\u001b[0;31m             \u001b[0moutwriter\u001b[0m\u001b[0;34m.\u001b[0m\u001b[0mwriterow\u001b[0m\u001b[0;34m(\u001b[0m\u001b[0;34m[\u001b[0m\u001b[0mic\u001b[0m\u001b[0;34m,\u001b[0m \u001b[0mfirma\u001b[0m\u001b[0;34m,\u001b[0m \u001b[0mulice\u001b[0m\u001b[0;34m,\u001b[0m \u001b[0mcis_domu\u001b[0m\u001b[0;34m,\u001b[0m \u001b[0mobec\u001b[0m\u001b[0;34m,\u001b[0m \u001b[0mpsc\u001b[0m\u001b[0;34m,\u001b[0m \u001b[0madresa_text\u001b[0m\u001b[0;34m,\u001b[0m \u001b[0mzapsano\u001b[0m\u001b[0;34m]\u001b[0m\u001b[0;34m)\u001b[0m\u001b[0;34m\u001b[0m\u001b[0m\n\u001b[0m\u001b[1;32m     46\u001b[0m             \u001b[0;31m#break\u001b[0m\u001b[0;34m\u001b[0m\u001b[0;34m\u001b[0m\u001b[0m\n\u001b[1;32m     47\u001b[0m \u001b[0;34m\u001b[0m\u001b[0m\n",
        "\u001b[0;31mUnicodeEncodeError\u001b[0m: 'ascii' codec can't encode character u'\\xe1' in position 2: ordinal not in range(128)"
       ]
      }
     ],
     "prompt_number": 93
    }
   ],
   "metadata": {}
  }
 ]
}